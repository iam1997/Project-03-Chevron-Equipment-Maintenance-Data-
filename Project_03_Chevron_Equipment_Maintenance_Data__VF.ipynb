{
  "nbformat": 4,
  "nbformat_minor": 0,
  "metadata": {
    "colab": {
      "name": "Project_03_Chevron_Equipment_Maintenance_Data__V1.ipynb",
      "provenance": [],
      "include_colab_link": true
    },
    "kernelspec": {
      "name": "python3",
      "display_name": "Python 3"
    },
    "language_info": {
      "name": "python"
    }
  },
  "cells": [
    {
      "cell_type": "markdown",
      "metadata": {
        "id": "view-in-github",
        "colab_type": "text"
      },
      "source": [
        "<a href=\"https://colab.research.google.com/github/iam1997/Project-03-Chevron-Equipment-Maintenance-Data-/blob/main/Project_03_Chevron_Equipment_Maintenance_Data__VF.ipynb\" target=\"_parent\"><img src=\"https://colab.research.google.com/assets/colab-badge.svg\" alt=\"Open In Colab\"/></a>"
      ]
    },
    {
      "cell_type": "markdown",
      "metadata": {
        "id": "9rlHcd1c2rND"
      },
      "source": [
        "### Instructions\n",
        "\n",
        "#### Given the data file \"WorkOders15_18 Corrective.csv \":\n",
        "- Recode label data\n",
        "- Determine which factors influence MTTF (mean time to failure)\n",
        "- Determine 20/80 for equipment failures (type, manufacturer, etc)\n",
        "- Show descriptive statistics for MTTF and repair times\n",
        "- Using machine learning predict extreme repair events (too soon, too long to repair, too costly)\n",
        "\n",
        "#### Methodology:\n",
        "- Carry out PCA. Summarize findings looking for relationship for variables time between failures (MTTF), repair time, cost\n",
        "- Give statistics about time between failures (MTTF), repair time, cost (Including histograms)\n",
        "- Do some math to find 20/80's of those variables\n",
        "- Create classes and carry out machine learning to determine what causes those rather extreme cases\n",
        "    \n",
        "#### Deliver:\n",
        "- Statistical analysis (mean, std dev, max, min, etc.) for time between failures (MTTF), repair time, cost\n",
        "- Principal component analysis answering what variables influence time between failures (MTTF), repair time, cost\n",
        "- Machine learning to predict time between failures (MTTF), repair time, cost after having established some thresholds. - There are suggestions but please set your own thresholds:\n",
        "    \n",
        "    ##### Duration\n",
        "The threshold was 7 days for all jobs, which is 95% percentile and 6 days for corrective jobs, which is also 95% percentile. \n",
        "A Duration of less than the threshold is label as 0. A duration above the threshold was labelled as 1 \n",
        "    ##### Total cost\n",
        "The threshold was established at $6520.00 which is 99% percentile (above is 1, below is 0) and $6700.00 for corrective jobs (99% percentile)\n",
        "    ##### Time between reports\n",
        "For the same equipment the threshold was set to 40 days for both general and corrective reports 63% percentile general, 42% corrective, above is 0, below is 1"
      ]
    },
    {
      "cell_type": "code",
      "metadata": {
        "colab": {
          "base_uri": "https://localhost:8080/"
        },
        "id": "i1-acW3qveCQ",
        "outputId": "4285bc9c-6790-434c-fe29-f1cd12358ec1"
      },
      "source": [
        "!pip install catboost"
      ],
      "execution_count": 1,
      "outputs": [
        {
          "output_type": "stream",
          "name": "stdout",
          "text": [
            "Collecting catboost\n",
            "  Downloading catboost-1.0.3-cp37-none-manylinux1_x86_64.whl (76.3 MB)\n",
            "\u001b[K     |████████████████████████████████| 76.3 MB 1.3 MB/s \n",
            "\u001b[?25hRequirement already satisfied: six in /usr/local/lib/python3.7/dist-packages (from catboost) (1.15.0)\n",
            "Requirement already satisfied: numpy>=1.16.0 in /usr/local/lib/python3.7/dist-packages (from catboost) (1.19.5)\n",
            "Requirement already satisfied: pandas>=0.24.0 in /usr/local/lib/python3.7/dist-packages (from catboost) (1.1.5)\n",
            "Requirement already satisfied: matplotlib in /usr/local/lib/python3.7/dist-packages (from catboost) (3.2.2)\n",
            "Requirement already satisfied: plotly in /usr/local/lib/python3.7/dist-packages (from catboost) (4.4.1)\n",
            "Requirement already satisfied: graphviz in /usr/local/lib/python3.7/dist-packages (from catboost) (0.10.1)\n",
            "Requirement already satisfied: scipy in /usr/local/lib/python3.7/dist-packages (from catboost) (1.4.1)\n",
            "Requirement already satisfied: pytz>=2017.2 in /usr/local/lib/python3.7/dist-packages (from pandas>=0.24.0->catboost) (2018.9)\n",
            "Requirement already satisfied: python-dateutil>=2.7.3 in /usr/local/lib/python3.7/dist-packages (from pandas>=0.24.0->catboost) (2.8.2)\n",
            "Requirement already satisfied: cycler>=0.10 in /usr/local/lib/python3.7/dist-packages (from matplotlib->catboost) (0.11.0)\n",
            "Requirement already satisfied: kiwisolver>=1.0.1 in /usr/local/lib/python3.7/dist-packages (from matplotlib->catboost) (1.3.2)\n",
            "Requirement already satisfied: pyparsing!=2.0.4,!=2.1.2,!=2.1.6,>=2.0.1 in /usr/local/lib/python3.7/dist-packages (from matplotlib->catboost) (3.0.6)\n",
            "Requirement already satisfied: retrying>=1.3.3 in /usr/local/lib/python3.7/dist-packages (from plotly->catboost) (1.3.3)\n",
            "Installing collected packages: catboost\n",
            "Successfully installed catboost-1.0.3\n"
          ]
        }
      ]
    },
    {
      "cell_type": "code",
      "metadata": {
        "id": "NyuZV5bZ2uvQ"
      },
      "source": [
        "# -----------------------------------------------------------------------------------------------------------------\n",
        "# Import libraries\n",
        "# -----------------------------------------------------------------------------------------------------------------\n",
        "import pandas as pd\n",
        "import numpy as np\n",
        "from sklearn import preprocessing\n",
        "import catboost\n",
        "from catboost import CatBoostClassifier, Pool, cv\n",
        "from sklearn.model_selection import train_test_split, GridSearchCV\n",
        "from sklearn import metrics\n",
        "from scipy import stats\n",
        "from sklearn import preprocessing\n",
        "from sklearn.metrics import confusion_matrix\n",
        "import seaborn as sns\n",
        "from google.colab import files\n",
        "import io\n",
        "import matplotlib.pyplot as plt"
      ],
      "execution_count": 2,
      "outputs": []
    },
    {
      "cell_type": "markdown",
      "metadata": {
        "id": "uaaFJA-UvyR_"
      },
      "source": [
        "FieldProductionTeam,\n",
        "\n",
        "EquipmentType,\n",
        "\n",
        "EquipmentClass,\n",
        "\n",
        "EquipmentCriticality,\n",
        "\n",
        "Priority, \n",
        "\n",
        "Cause,\n",
        "\n",
        "FailureReason,\n",
        "\n",
        "Duration, \n",
        "\n",
        "GrossProductionLoss,\n",
        "\n",
        "AffectedProduction,\n",
        "\n",
        "IsAffectingProduction,\n",
        "\n",
        "TotalCost,\n",
        "\n",
        "Manufacturer,\n",
        "\n",
        "ActualDuration, \n",
        "\n",
        "TBF,\n",
        "\n",
        "TBF_Equipment\n",
        "\n",
        "\n"
      ]
    },
    {
      "cell_type": "code",
      "metadata": {
        "colab": {
          "resources": {
            "http://localhost:8080/nbextensions/google.colab/files.js": {
              "data": "Ly8gQ29weXJpZ2h0IDIwMTcgR29vZ2xlIExMQwovLwovLyBMaWNlbnNlZCB1bmRlciB0aGUgQXBhY2hlIExpY2Vuc2UsIFZlcnNpb24gMi4wICh0aGUgIkxpY2Vuc2UiKTsKLy8geW91IG1heSBub3QgdXNlIHRoaXMgZmlsZSBleGNlcHQgaW4gY29tcGxpYW5jZSB3aXRoIHRoZSBMaWNlbnNlLgovLyBZb3UgbWF5IG9idGFpbiBhIGNvcHkgb2YgdGhlIExpY2Vuc2UgYXQKLy8KLy8gICAgICBodHRwOi8vd3d3LmFwYWNoZS5vcmcvbGljZW5zZXMvTElDRU5TRS0yLjAKLy8KLy8gVW5sZXNzIHJlcXVpcmVkIGJ5IGFwcGxpY2FibGUgbGF3IG9yIGFncmVlZCB0byBpbiB3cml0aW5nLCBzb2Z0d2FyZQovLyBkaXN0cmlidXRlZCB1bmRlciB0aGUgTGljZW5zZSBpcyBkaXN0cmlidXRlZCBvbiBhbiAiQVMgSVMiIEJBU0lTLAovLyBXSVRIT1VUIFdBUlJBTlRJRVMgT1IgQ09ORElUSU9OUyBPRiBBTlkgS0lORCwgZWl0aGVyIGV4cHJlc3Mgb3IgaW1wbGllZC4KLy8gU2VlIHRoZSBMaWNlbnNlIGZvciB0aGUgc3BlY2lmaWMgbGFuZ3VhZ2UgZ292ZXJuaW5nIHBlcm1pc3Npb25zIGFuZAovLyBsaW1pdGF0aW9ucyB1bmRlciB0aGUgTGljZW5zZS4KCi8qKgogKiBAZmlsZW92ZXJ2aWV3IEhlbHBlcnMgZm9yIGdvb2dsZS5jb2xhYiBQeXRob24gbW9kdWxlLgogKi8KKGZ1bmN0aW9uKHNjb3BlKSB7CmZ1bmN0aW9uIHNwYW4odGV4dCwgc3R5bGVBdHRyaWJ1dGVzID0ge30pIHsKICBjb25zdCBlbGVtZW50ID0gZG9jdW1lbnQuY3JlYXRlRWxlbWVudCgnc3BhbicpOwogIGVsZW1lbnQudGV4dENvbnRlbnQgPSB0ZXh0OwogIGZvciAoY29uc3Qga2V5IG9mIE9iamVjdC5rZXlzKHN0eWxlQXR0cmlidXRlcykpIHsKICAgIGVsZW1lbnQuc3R5bGVba2V5XSA9IHN0eWxlQXR0cmlidXRlc1trZXldOwogIH0KICByZXR1cm4gZWxlbWVudDsKfQoKLy8gTWF4IG51bWJlciBvZiBieXRlcyB3aGljaCB3aWxsIGJlIHVwbG9hZGVkIGF0IGEgdGltZS4KY29uc3QgTUFYX1BBWUxPQURfU0laRSA9IDEwMCAqIDEwMjQ7CgpmdW5jdGlvbiBfdXBsb2FkRmlsZXMoaW5wdXRJZCwgb3V0cHV0SWQpIHsKICBjb25zdCBzdGVwcyA9IHVwbG9hZEZpbGVzU3RlcChpbnB1dElkLCBvdXRwdXRJZCk7CiAgY29uc3Qgb3V0cHV0RWxlbWVudCA9IGRvY3VtZW50LmdldEVsZW1lbnRCeUlkKG91dHB1dElkKTsKICAvLyBDYWNoZSBzdGVwcyBvbiB0aGUgb3V0cHV0RWxlbWVudCB0byBtYWtlIGl0IGF2YWlsYWJsZSBmb3IgdGhlIG5leHQgY2FsbAogIC8vIHRvIHVwbG9hZEZpbGVzQ29udGludWUgZnJvbSBQeXRob24uCiAgb3V0cHV0RWxlbWVudC5zdGVwcyA9IHN0ZXBzOwoKICByZXR1cm4gX3VwbG9hZEZpbGVzQ29udGludWUob3V0cHV0SWQpOwp9CgovLyBUaGlzIGlzIHJvdWdobHkgYW4gYXN5bmMgZ2VuZXJhdG9yIChub3Qgc3VwcG9ydGVkIGluIHRoZSBicm93c2VyIHlldCksCi8vIHdoZXJlIHRoZXJlIGFyZSBtdWx0aXBsZSBhc3luY2hyb25vdXMgc3RlcHMgYW5kIHRoZSBQeXRob24gc2lkZSBpcyBnb2luZwovLyB0byBwb2xsIGZvciBjb21wbGV0aW9uIG9mIGVhY2ggc3RlcC4KLy8gVGhpcyB1c2VzIGEgUHJvbWlzZSB0byBibG9jayB0aGUgcHl0aG9uIHNpZGUgb24gY29tcGxldGlvbiBvZiBlYWNoIHN0ZXAsCi8vIHRoZW4gcGFzc2VzIHRoZSByZXN1bHQgb2YgdGhlIHByZXZpb3VzIHN0ZXAgYXMgdGhlIGlucHV0IHRvIHRoZSBuZXh0IHN0ZXAuCmZ1bmN0aW9uIF91cGxvYWRGaWxlc0NvbnRpbnVlKG91dHB1dElkKSB7CiAgY29uc3Qgb3V0cHV0RWxlbWVudCA9IGRvY3VtZW50LmdldEVsZW1lbnRCeUlkKG91dHB1dElkKTsKICBjb25zdCBzdGVwcyA9IG91dHB1dEVsZW1lbnQuc3RlcHM7CgogIGNvbnN0IG5leHQgPSBzdGVwcy5uZXh0KG91dHB1dEVsZW1lbnQubGFzdFByb21pc2VWYWx1ZSk7CiAgcmV0dXJuIFByb21pc2UucmVzb2x2ZShuZXh0LnZhbHVlLnByb21pc2UpLnRoZW4oKHZhbHVlKSA9PiB7CiAgICAvLyBDYWNoZSB0aGUgbGFzdCBwcm9taXNlIHZhbHVlIHRvIG1ha2UgaXQgYXZhaWxhYmxlIHRvIHRoZSBuZXh0CiAgICAvLyBzdGVwIG9mIHRoZSBnZW5lcmF0b3IuCiAgICBvdXRwdXRFbGVtZW50Lmxhc3RQcm9taXNlVmFsdWUgPSB2YWx1ZTsKICAgIHJldHVybiBuZXh0LnZhbHVlLnJlc3BvbnNlOwogIH0pOwp9CgovKioKICogR2VuZXJhdG9yIGZ1bmN0aW9uIHdoaWNoIGlzIGNhbGxlZCBiZXR3ZWVuIGVhY2ggYXN5bmMgc3RlcCBvZiB0aGUgdXBsb2FkCiAqIHByb2Nlc3MuCiAqIEBwYXJhbSB7c3RyaW5nfSBpbnB1dElkIEVsZW1lbnQgSUQgb2YgdGhlIGlucHV0IGZpbGUgcGlja2VyIGVsZW1lbnQuCiAqIEBwYXJhbSB7c3RyaW5nfSBvdXRwdXRJZCBFbGVtZW50IElEIG9mIHRoZSBvdXRwdXQgZGlzcGxheS4KICogQHJldHVybiB7IUl0ZXJhYmxlPCFPYmplY3Q+fSBJdGVyYWJsZSBvZiBuZXh0IHN0ZXBzLgogKi8KZnVuY3Rpb24qIHVwbG9hZEZpbGVzU3RlcChpbnB1dElkLCBvdXRwdXRJZCkgewogIGNvbnN0IGlucHV0RWxlbWVudCA9IGRvY3VtZW50LmdldEVsZW1lbnRCeUlkKGlucHV0SWQpOwogIGlucHV0RWxlbWVudC5kaXNhYmxlZCA9IGZhbHNlOwoKICBjb25zdCBvdXRwdXRFbGVtZW50ID0gZG9jdW1lbnQuZ2V0RWxlbWVudEJ5SWQob3V0cHV0SWQpOwogIG91dHB1dEVsZW1lbnQuaW5uZXJIVE1MID0gJyc7CgogIGNvbnN0IHBpY2tlZFByb21pc2UgPSBuZXcgUHJvbWlzZSgocmVzb2x2ZSkgPT4gewogICAgaW5wdXRFbGVtZW50LmFkZEV2ZW50TGlzdGVuZXIoJ2NoYW5nZScsIChlKSA9PiB7CiAgICAgIHJlc29sdmUoZS50YXJnZXQuZmlsZXMpOwogICAgfSk7CiAgfSk7CgogIGNvbnN0IGNhbmNlbCA9IGRvY3VtZW50LmNyZWF0ZUVsZW1lbnQoJ2J1dHRvbicpOwogIGlucHV0RWxlbWVudC5wYXJlbnRFbGVtZW50LmFwcGVuZENoaWxkKGNhbmNlbCk7CiAgY2FuY2VsLnRleHRDb250ZW50ID0gJ0NhbmNlbCB1cGxvYWQnOwogIGNvbnN0IGNhbmNlbFByb21pc2UgPSBuZXcgUHJvbWlzZSgocmVzb2x2ZSkgPT4gewogICAgY2FuY2VsLm9uY2xpY2sgPSAoKSA9PiB7CiAgICAgIHJlc29sdmUobnVsbCk7CiAgICB9OwogIH0pOwoKICAvLyBXYWl0IGZvciB0aGUgdXNlciB0byBwaWNrIHRoZSBmaWxlcy4KICBjb25zdCBmaWxlcyA9IHlpZWxkIHsKICAgIHByb21pc2U6IFByb21pc2UucmFjZShbcGlja2VkUHJvbWlzZSwgY2FuY2VsUHJvbWlzZV0pLAogICAgcmVzcG9uc2U6IHsKICAgICAgYWN0aW9uOiAnc3RhcnRpbmcnLAogICAgfQogIH07CgogIGNhbmNlbC5yZW1vdmUoKTsKCiAgLy8gRGlzYWJsZSB0aGUgaW5wdXQgZWxlbWVudCBzaW5jZSBmdXJ0aGVyIHBpY2tzIGFyZSBub3QgYWxsb3dlZC4KICBpbnB1dEVsZW1lbnQuZGlzYWJsZWQgPSB0cnVlOwoKICBpZiAoIWZpbGVzKSB7CiAgICByZXR1cm4gewogICAgICByZXNwb25zZTogewogICAgICAgIGFjdGlvbjogJ2NvbXBsZXRlJywKICAgICAgfQogICAgfTsKICB9CgogIGZvciAoY29uc3QgZmlsZSBvZiBmaWxlcykgewogICAgY29uc3QgbGkgPSBkb2N1bWVudC5jcmVhdGVFbGVtZW50KCdsaScpOwogICAgbGkuYXBwZW5kKHNwYW4oZmlsZS5uYW1lLCB7Zm9udFdlaWdodDogJ2JvbGQnfSkpOwogICAgbGkuYXBwZW5kKHNwYW4oCiAgICAgICAgYCgke2ZpbGUudHlwZSB8fCAnbi9hJ30pIC0gJHtmaWxlLnNpemV9IGJ5dGVzLCBgICsKICAgICAgICBgbGFzdCBtb2RpZmllZDogJHsKICAgICAgICAgICAgZmlsZS5sYXN0TW9kaWZpZWREYXRlID8gZmlsZS5sYXN0TW9kaWZpZWREYXRlLnRvTG9jYWxlRGF0ZVN0cmluZygpIDoKICAgICAgICAgICAgICAgICAgICAgICAgICAgICAgICAgICAgJ24vYSd9IC0gYCkpOwogICAgY29uc3QgcGVyY2VudCA9IHNwYW4oJzAlIGRvbmUnKTsKICAgIGxpLmFwcGVuZENoaWxkKHBlcmNlbnQpOwoKICAgIG91dHB1dEVsZW1lbnQuYXBwZW5kQ2hpbGQobGkpOwoKICAgIGNvbnN0IGZpbGVEYXRhUHJvbWlzZSA9IG5ldyBQcm9taXNlKChyZXNvbHZlKSA9PiB7CiAgICAgIGNvbnN0IHJlYWRlciA9IG5ldyBGaWxlUmVhZGVyKCk7CiAgICAgIHJlYWRlci5vbmxvYWQgPSAoZSkgPT4gewogICAgICAgIHJlc29sdmUoZS50YXJnZXQucmVzdWx0KTsKICAgICAgfTsKICAgICAgcmVhZGVyLnJlYWRBc0FycmF5QnVmZmVyKGZpbGUpOwogICAgfSk7CiAgICAvLyBXYWl0IGZvciB0aGUgZGF0YSB0byBiZSByZWFkeS4KICAgIGxldCBmaWxlRGF0YSA9IHlpZWxkIHsKICAgICAgcHJvbWlzZTogZmlsZURhdGFQcm9taXNlLAogICAgICByZXNwb25zZTogewogICAgICAgIGFjdGlvbjogJ2NvbnRpbnVlJywKICAgICAgfQogICAgfTsKCiAgICAvLyBVc2UgYSBjaHVua2VkIHNlbmRpbmcgdG8gYXZvaWQgbWVzc2FnZSBzaXplIGxpbWl0cy4gU2VlIGIvNjIxMTU2NjAuCiAgICBsZXQgcG9zaXRpb24gPSAwOwogICAgZG8gewogICAgICBjb25zdCBsZW5ndGggPSBNYXRoLm1pbihmaWxlRGF0YS5ieXRlTGVuZ3RoIC0gcG9zaXRpb24sIE1BWF9QQVlMT0FEX1NJWkUpOwogICAgICBjb25zdCBjaHVuayA9IG5ldyBVaW50OEFycmF5KGZpbGVEYXRhLCBwb3NpdGlvbiwgbGVuZ3RoKTsKICAgICAgcG9zaXRpb24gKz0gbGVuZ3RoOwoKICAgICAgY29uc3QgYmFzZTY0ID0gYnRvYShTdHJpbmcuZnJvbUNoYXJDb2RlLmFwcGx5KG51bGwsIGNodW5rKSk7CiAgICAgIHlpZWxkIHsKICAgICAgICByZXNwb25zZTogewogICAgICAgICAgYWN0aW9uOiAnYXBwZW5kJywKICAgICAgICAgIGZpbGU6IGZpbGUubmFtZSwKICAgICAgICAgIGRhdGE6IGJhc2U2NCwKICAgICAgICB9LAogICAgICB9OwoKICAgICAgbGV0IHBlcmNlbnREb25lID0gZmlsZURhdGEuYnl0ZUxlbmd0aCA9PT0gMCA/CiAgICAgICAgICAxMDAgOgogICAgICAgICAgTWF0aC5yb3VuZCgocG9zaXRpb24gLyBmaWxlRGF0YS5ieXRlTGVuZ3RoKSAqIDEwMCk7CiAgICAgIHBlcmNlbnQudGV4dENvbnRlbnQgPSBgJHtwZXJjZW50RG9uZX0lIGRvbmVgOwoKICAgIH0gd2hpbGUgKHBvc2l0aW9uIDwgZmlsZURhdGEuYnl0ZUxlbmd0aCk7CiAgfQoKICAvLyBBbGwgZG9uZS4KICB5aWVsZCB7CiAgICByZXNwb25zZTogewogICAgICBhY3Rpb246ICdjb21wbGV0ZScsCiAgICB9CiAgfTsKfQoKc2NvcGUuZ29vZ2xlID0gc2NvcGUuZ29vZ2xlIHx8IHt9OwpzY29wZS5nb29nbGUuY29sYWIgPSBzY29wZS5nb29nbGUuY29sYWIgfHwge307CnNjb3BlLmdvb2dsZS5jb2xhYi5fZmlsZXMgPSB7CiAgX3VwbG9hZEZpbGVzLAogIF91cGxvYWRGaWxlc0NvbnRpbnVlLAp9Owp9KShzZWxmKTsK",
              "ok": true,
              "headers": [
                [
                  "content-type",
                  "application/javascript"
                ]
              ],
              "status": 200,
              "status_text": ""
            }
          },
          "base_uri": "https://localhost:8080/",
          "height": 127
        },
        "id": "vqChyymI2u2m",
        "outputId": "0f7f8065-65a0-4d2d-a77b-52a5d16744a8"
      },
      "source": [
        "# -----------------------------------------------------------------------------------------------------------------\n",
        "# Open the dataset\n",
        "# -----------------------------------------------------------------------------------------------------------------\n",
        "uploaded = files.upload()\n",
        "dataset = pd.read_csv(io.BytesIO(uploaded['WorkOders15_18 Corrective (1).csv']))"
      ],
      "execution_count": null,
      "outputs": [
        {
          "output_type": "display_data",
          "data": {
            "text/html": [
              "\n",
              "     <input type=\"file\" id=\"files-7cc26f9b-2af5-408c-9911-adcf4255a705\" name=\"files[]\" multiple disabled\n",
              "        style=\"border:none\" />\n",
              "     <output id=\"result-7cc26f9b-2af5-408c-9911-adcf4255a705\">\n",
              "      Upload widget is only available when the cell has been executed in the\n",
              "      current browser session. Please rerun this cell to enable.\n",
              "      </output>\n",
              "      <script src=\"/nbextensions/google.colab/files.js\"></script> "
            ],
            "text/plain": [
              "<IPython.core.display.HTML object>"
            ]
          },
          "metadata": {}
        },
        {
          "output_type": "stream",
          "name": "stdout",
          "text": [
            "Saving WorkOders15_18 Corrective (1).csv to WorkOders15_18 Corrective (1).csv\n"
          ]
        },
        {
          "output_type": "stream",
          "name": "stderr",
          "text": [
            "/usr/local/lib/python3.7/dist-packages/IPython/core/interactiveshell.py:2718: DtypeWarning: Columns (12) have mixed types.Specify dtype option on import or set low_memory=False.\n",
            "  interactivity=interactivity, compiler=compiler, result=result)\n"
          ]
        }
      ]
    },
    {
      "cell_type": "code",
      "metadata": {
        "id": "oJ5jxmJh2u4-"
      },
      "source": [
        "# -----------------------------------------------------------------------------------------------------------------\n",
        "# Save the dataset as .xlsx\n",
        "# -----------------------------------------------------------------------------------------------------------------\n",
        "#dataset.to_excel(r'C:\\Users\\Manuel Wereb\\Dropbox\\Studium\\Semester\\TEC de Monterrey\\Data Science and Big Data Analytics\\Classworks\\WorkOders15_18 Corrective_10Lines.xlsx')"
      ],
      "execution_count": null,
      "outputs": []
    },
    {
      "cell_type": "code",
      "metadata": {
        "colab": {
          "base_uri": "https://localhost:8080/"
        },
        "id": "inIUr2og2u7e",
        "outputId": "d64de1e7-b179-42f7-b758-b6f356814856"
      },
      "source": [
        "# -----------------------------------------------------------------------------------------------------------------\n",
        "# Drop columns which contain always the same value or always a different value to reduce the size of the dataset\n",
        "# -----------------------------------------------------------------------------------------------------------------\n",
        "datasetFiltered = pd.DataFrame(data=None, columns=None)\n",
        "for column in dataset.columns:\n",
        "    print('{0} has {1} rows and {2} different values'.format(column, len(dataset.index), len(dataset[column].unique())))\n",
        "    if len(dataset[column].unique()) != 1 and len(dataset[column].unique()) != len(dataset.index):\n",
        "        datasetFiltered[column] = dataset[column]\n",
        "    else:\n",
        "        print('--> {0} is dropped'.format(column))"
      ],
      "execution_count": null,
      "outputs": [
        {
          "output_type": "stream",
          "name": "stdout",
          "text": [
            "WorkOrder has 89480 rows and 89480 different values\n",
            "--> WorkOrder is dropped\n",
            "FieldProductionTeam has 89480 rows and 56 different values\n",
            "Comment has 89480 rows and 87299 different values\n",
            "EquipmentCode has 89480 rows and 45782 different values\n",
            "EquipmentRollupCode has 89480 rows and 45586 different values\n",
            "EquipmentDescription has 89480 rows and 43328 different values\n",
            "EquipmentType has 89480 rows and 4 different values\n",
            "EquipmentClass has 89480 rows and 332 different values\n",
            "EquipmentCriticality has 89480 rows and 8 different values\n",
            "StatusCode has 89480 rows and 2 different values\n",
            "StatusDescription has 89480 rows and 2 different values\n",
            "StatusShortDescription has 89480 rows and 2 different values\n",
            "Priority has 89480 rows and 11 different values\n",
            "WOType has 89480 rows and 1 different values\n",
            "--> WOType is dropped\n",
            "JobType has 89480 rows and 1 different values\n",
            "--> JobType is dropped\n",
            "Action has 89480 rows and 35 different values\n",
            "Requirement has 89480 rows and 21 different values\n",
            "Cause has 89480 rows and 50 different values\n",
            "FailureReason has 89480 rows and 580 different values\n",
            "Duration has 89480 rows and 169 different values\n",
            "GrossProductionLoss has 89480 rows and 463 different values\n",
            "AffectedProduction has 89480 rows and 392 different values\n",
            "IsAffectingProduction has 89480 rows and 2 different values\n",
            "LaborCost has 89480 rows and 1357 different values\n",
            "MaterialCost has 89480 rows and 1346 different values\n",
            "TotalCost has 89480 rows and 4059 different values\n",
            "Assigned has 89480 rows and 1140 different values\n",
            "Trade has 89480 rows and 78 different values\n",
            "TradeGroup has 89480 rows and 4 different values\n",
            "SupervisorRole has 89480 rows and 4 different values\n",
            "Manufacturer has 89480 rows and 914 different values\n",
            "Model has 89480 rows and 5366 different values\n",
            "Safety has 89480 rows and 2 different values\n",
            "Reopened has 89480 rows and 2 different values\n",
            "CreatedBy has 89480 rows and 1726 different values\n",
            "UpdatedBy has 89480 rows and 329 different values\n",
            "CreatedDate has 89480 rows and 1590 different values\n",
            "UpdatedDate has 89480 rows and 1021 different values\n",
            "ReportDate has 89480 rows and 1594 different values\n",
            "ReportMonth has 89480 rows and 12 different values\n",
            "ReportWeekDay has 89480 rows and 7 different values\n",
            "TargetDate has 89480 rows and 1467 different values\n",
            "SchEndDate has 89480 rows and 1466 different values\n",
            "ActualDuration has 89480 rows and 280 different values\n",
            "ScheduleCompliant has 89480 rows and 2 different values\n",
            "PMOverdue has 89480 rows and 1 different values\n",
            "--> PMOverdue is dropped\n",
            "CompletedDate has 89480 rows and 1235 different values\n",
            "CompletedMonth has 89480 rows and 12 different values\n",
            "CompletedWeekDay has 89480 rows and 7 different values\n",
            "TBF has 89480 rows and 4 different values\n",
            "TBF_Equipment has 89480 rows and 1021 different values\n"
          ]
        }
      ]
    },
    {
      "cell_type": "code",
      "metadata": {
        "id": "RJ0QVwL32u9s"
      },
      "source": [
        "# -----------------------------------------------------------------------------------------------------------------    \n",
        "# Drop the column StatusDescription and StatusShortDescription because it contains exact the same statement as StatusCode\n",
        "# -----------------------------------------------------------------------------------------------------------------    \n",
        "datasetFiltered['StatusDescription'] = datasetFiltered['StatusDescription'].replace(['C - Closed - Sent to History', 'D - Waiting Work Order Completion'], ['C', 'D'])\n",
        "comparisonColumn = np.where(datasetFiltered['StatusCode'] == datasetFiltered['StatusDescription'], True, False)\n",
        "if False not in comparisonColumn:\n",
        "    datasetFiltered = datasetFiltered.drop('StatusDescription', axis=1)\n",
        "    \n",
        "datasetFiltered['StatusShortDescription'] = datasetFiltered['StatusShortDescription'].replace(['Closed(C)', 'Complete(D)'], ['C', 'D'])\n",
        "comparisonColumn = np.where(datasetFiltered['StatusCode'] == datasetFiltered['StatusShortDescription'], True, False)\n",
        "if False not in comparisonColumn:\n",
        "    datasetFiltered = datasetFiltered.drop('StatusShortDescription', axis=1)"
      ],
      "execution_count": null,
      "outputs": []
    },
    {
      "cell_type": "code",
      "metadata": {
        "colab": {
          "base_uri": "https://localhost:8080/"
        },
        "id": "XxvFhc8i2u_7",
        "outputId": "4888cf79-d1c0-4f85-b740-28f80c87fcc5"
      },
      "source": [
        "# -----------------------------------------------------------------------------------------------------------------    \n",
        "# Count different values in the columns of the dataset\n",
        "# -----------------------------------------------------------------------------------------------------------------    \n",
        "datasetFiltered['Priority'] = datasetFiltered['Priority'].replace([1, 2, 3, 4, 5], ['1', '2', '3', '4', '5'])\n",
        "for column in datasetFiltered.columns:\n",
        "    print(datasetFiltered[column].value_counts())\n",
        "    print('\\n')"
      ],
      "execution_count": null,
      "outputs": [
        {
          "output_type": "stream",
          "name": "stdout",
          "text": [
            "KR                 16215\n",
            "MS                  5984\n",
            "MCELROY             4761\n",
            "EUNICE              4731\n",
            "BUCKEYE             4138\n",
            "CY                  4013\n",
            "VAN                 2977\n",
            "HOBBS               2769\n",
            "CARLSBAD            2586\n",
            "CARTHAGE            2555\n",
            "ODESSAEAST          2541\n",
            "ODESSAWEST          2422\n",
            "CONGER              2282\n",
            "SA                  2233\n",
            "FTSTOCKTON          2097\n",
            "LH                  2039\n",
            "CO                  2008\n",
            "VEALMOOR            1934\n",
            "MABEE               1884\n",
            "HEADLEEGAS          1774\n",
            "JSM                 1703\n",
            "RANGELY             1655\n",
            "ANDREWS             1279\n",
            "BGF                 1251\n",
            "DOLLARHIDE          1072\n",
            "TAH                  914\n",
            "PICEANCE             883\n",
            "BIGLAKE              762\n",
            "GW                   694\n",
            "PET                  681\n",
            "BUCKEYEPLANT         649\n",
            "SANJUAN              577\n",
            "GEN                  551\n",
            "SF                   513\n",
            "WHARTON              511\n",
            "None                 493\n",
            "DOLLARHIDEPLANT      453\n",
            "OZONA                427\n",
            "CAYUGA               378\n",
            "TS                   314\n",
            "SUNDOWN              309\n",
            "MABEEPLANT           269\n",
            "BAT                  241\n",
            "BLF                  221\n",
            "MAP                  161\n",
            "MAT                  147\n",
            "VELMA                145\n",
            "WILSONCREEK          104\n",
            "CARTERKNOX            54\n",
            "WPG                   40\n",
            "GOM-COM               27\n",
            "GULFCOAST             26\n",
            "PMF                   22\n",
            "SANDHILLS              9\n",
            "SMPG                   1\n",
            "PERMIAN                1\n",
            "Name: FieldProductionTeam, dtype: int64\n",
            "\n",
            "\n",
            "OOOOA FOLLOW UP REPAIR                                      387\n",
            "BLM RULE FOLLOW UP REPAIR                                   216\n",
            "RELIEF VALVE REPAIR                                         140\n",
            "Electrical Problems                                          35\n",
            "Mechanical Problem                                           25\n",
            "                                                           ... \n",
            "EUNICE LOTOS 10-1 JUNK PICK UP                                1\n",
            "1 BRAKE SJ 389 Bad Brake Pre Hoist                            1\n",
            "K20 compressor faulted                                        1\n",
            "MCELROY SITE 200 TESTER 2 PSH AND LSH ALARMS WON'T CLEAR      1\n",
            "9 BELTS CR 17 loose belts 9oil                                1\n",
            "Name: Comment, Length: 87299, dtype: int64\n",
            "\n",
            "\n",
            "VAN                             427\n",
            "V60MBS                          229\n",
            "WR718A-PLATFORM-LTG             218\n",
            "WR29A-ZZZ1601                   149\n",
            "VK786A-GL-TS-LTG                138\n",
            "                               ... \n",
            "22B53100057                       1\n",
            "PF8SOATXLFEE17/20SCA1             1\n",
            "AY5433                            1\n",
            "IW7423                            1\n",
            "SA-PLT-GP-CL-E3212-PCV3212-2      1\n",
            "Name: EquipmentCode, Length: 45782, dtype: int64\n",
            "\n",
            "\n",
            "VAN                             427\n",
            "V60MBS                          229\n",
            "WR718A-PLATFORM-LTG             218\n",
            "WR29A-ZZZ1601                   149\n",
            "VK786A-GL-TS-LTG                138\n",
            "                               ... \n",
            "LL1031                            1\n",
            "BLB1EAST1                         1\n",
            "GC641A-DV9                        1\n",
            "SA-SP-ORR-SG5405-PSV46            1\n",
            "SA-PLT-GP-CL-E3212-PCV3212-2      1\n",
            "Name: EquipmentRollupCode, Length: 45586, dtype: int64\n",
            "\n",
            "\n",
            "VAN OPERATIONS                                       427\n",
            "Platform Lighting                                    246\n",
            "Living Quarters                                      211\n",
            "Facility Lighting                                    201\n",
            "STATION; MCELROY MAIN BRINE                          198\n",
            "                                                    ... \n",
            "GWWL0552 - PUMPING UNIT - FY8049                       1\n",
            "RASWL1234 - STUFFING BOX - OV8951                      1\n",
            "H2S MONITOR FIXED #B5; 125 CHARGE BLDG EAST SIDE       1\n",
            "THIEF HATCH; TANK 500 BBL FG BRINE T2 GETTY 24-1       1\n",
            "RELIEF VALVE - FILTER MEDIA - LHO3C-WI-FLT-FL0510      1\n",
            "Name: EquipmentDescription, Length: 43328, dtype: int64\n",
            "\n",
            "\n",
            "Position    49045\n",
            "System      20143\n",
            "Asset       19632\n",
            "Location      660\n",
            "Name: EquipmentType, dtype: int64\n",
            "\n",
            "\n",
            "Pumping Unit                             20676\n",
            "SSE - Well                                7450\n",
            "SE - Battery                              6817\n",
            "SE - Stuffing Box                         5676\n",
            "SE - Well Head                            2998\n",
            "                                         ...  \n",
            "Power Supply - Power                         1\n",
            "Filter - Hydrocyclone                        1\n",
            "Control System - Remote Terminal Unit        1\n",
            "Shutdown System - Fire & Gas Control         1\n",
            "Line - Utility                               1\n",
            "Name: EquipmentClass, Length: 332, dtype: int64\n",
            "\n",
            "\n",
            "3 - Low                  39053\n",
            "NA - Not Applicable      23260\n",
            "R3 - Low                 15130\n",
            "R2 - Moderate             5609\n",
            "2 - Moderate              4857\n",
            "1 - High                  1255\n",
            "R1 - High                  315\n",
            "Equipment criticality        1\n",
            "Name: EquipmentCriticality, dtype: int64\n",
            "\n",
            "\n",
            "C    86776\n",
            "D     2704\n",
            "Name: StatusCode, dtype: int64\n",
            "\n",
            "\n",
            "3       62466\n",
            "4       13962\n",
            "2       10528\n",
            "1        1799\n",
            "5         681\n",
            "None       44\n",
            "Name: Priority, dtype: int64\n",
            "\n",
            "\n",
            "Replaced in Kind                             39392\n",
            "Repaired                                     16283\n",
            "Adjusted / Calibrated                         5221\n",
            "Cleaned                                       4235\n",
            "No code available, See comments               4174\n",
            "New Installation                              3151\n",
            "No Action Required                            3071\n",
            "Reset                                         2276\n",
            "Aligned                                       1911\n",
            "Proactive Maint Completed W/O Problem         1631\n",
            "Serviced                                      1186\n",
            "Flushed                                       1185\n",
            "No code needed, See comments                  1002\n",
            "Modified                                       794\n",
            "Overhauled                                     791\n",
            "Abandonment                                    558\n",
            "Equipment Move                                 359\n",
            "Proactive Maint Completed with Problem         316\n",
            "Lubricated / Greased                           288\n",
            "Balance                                        252\n",
            "Unplugged                                      248\n",
            "Test / Sampling                                202\n",
            "Reengineered                                   137\n",
            "Retrofit / Refurbish                           133\n",
            "Certified                                      128\n",
            "Respace                                         93\n",
            "Replenished / Recharged                         91\n",
            "Temporary Repair                                72\n",
            "Chemical Treatment                              72\n",
            "Safety Compliance Inspection                    62\n",
            "Safety Compliance Inspection with Problem       60\n",
            "Painted                                         46\n",
            "Equipment is not loaded, See comments           36\n",
            "Speed Change                                    15\n",
            "Stroke Length Change                             9\n",
            "Name: Action, dtype: int64\n",
            "\n",
            "\n",
            "Electrical Problems                      28320\n",
            "Mechanical Problem                       18465\n",
            "Process Leaks                            18063\n",
            "Inspection/Condition Monitoring           5211\n",
            "Communication Problems                    3702\n",
            "Support                                   3549\n",
            "Scada / Communication Problems            2806\n",
            "Optimization                              2240\n",
            "Corrosion                                 1657\n",
            "No code available, See comments           1253\n",
            "Pressure Problem                          1122\n",
            "New Installation                          1048\n",
            "Abandonment / Removal                      415\n",
            "Pneumatic Problem                          389\n",
            "Down Hole Maintenance                      307\n",
            "Temperature                                290\n",
            "Will not start                             217\n",
            "No code needed, See comments               213\n",
            "Excess Vibration                           118\n",
            "Excess Noise                                70\n",
            "Equipment is not loaded, See comments       25\n",
            "Name: Requirement, dtype: int64\n",
            "\n",
            "\n",
            "Broken                                                             22702\n",
            "Leaking                                                            14747\n",
            "Open / Short / Ground                                               5758\n",
            "No code available, See comments                                     5155\n",
            "No Problem Found                                                    4045\n",
            "Dirty                                                               3566\n",
            "Flow Cut / Erosion / Wear                                           3465\n",
            "Communication Failure                                               3440\n",
            "Improper Alignment                                                  2043\n",
            "Loose                                                               1847\n",
            "Loss of Air / Power                                                 1784\n",
            "Out of Calibration                                                  1644\n",
            "Cracked                                                             1631\n",
            "Missing                                                             1576\n",
            "Plugged                                                             1559\n",
            "Fouling                                                             1521\n",
            "No code needed, See comments                                        1417\n",
            "Physical damage weather, lightning sea, wind, temperature, etc.     1180\n",
            "External Corrosion                                                   968\n",
            "Program                                                              861\n",
            "Contaminated                                                         855\n",
            "Distorted                                                            828\n",
            "Tripped                                                              822\n",
            "Bent                                                                 717\n",
            "Internal Corrosion                                                   708\n",
            "Improper Clearance                                                   688\n",
            "Pitted                                                               582\n",
            "Improper Fit                                                         496\n",
            "Imbalance                                                            370\n",
            "Sticking                                                             352\n",
            "Seized                                                               327\n",
            "Bow                                                                  314\n",
            "Over Heated                                                          300\n",
            "Improper Lubrication                                                 232\n",
            "Noisy                                                                152\n",
            "Over pressure                                                        135\n",
            "Vibration / Noisy                                                    130\n",
            "Range Change                                                         105\n",
            "Wet / Moisture                                                       103\n",
            "Scored / Cut  / Gouged                                                73\n",
            "Rupture                                                               73\n",
            "Equipment is not loaded, See comments                                 47\n",
            "Ext Corrosion Under Insulation                                        34\n",
            "Improper Crush                                                        33\n",
            "Cavitation / Film Boiling                                             32\n",
            "Thread Damage                                                         26\n",
            "Fretted by Gasket                                                     21\n",
            "Wood Rot                                                               8\n",
            "Spalling                                                               6\n",
            "API Soft goods change out (GOM only)                                   2\n",
            "Name: Cause, dtype: int64\n",
            "\n",
            "\n",
            "Pipe - Piping                                    8118\n",
            "No code available, See comments                  7436\n",
            "Other - Electrical - Catch All                   6286\n",
            "Component - Belt                                 4477\n",
            "Productions Equipment - Stuffing Box             3680\n",
            "                                                 ... \n",
            "Communications - Power, BATTERY PLANT - 24VDC       1\n",
            "Component - Seperator, Oil/Gas/Air                  1\n",
            "Component - Rod, Push                               1\n",
            "End Device - Wiring/Cabeling                        1\n",
            "EH & S - Hearing Protection                         1\n",
            "Name: FailureReason, Length: 580, dtype: int64\n",
            "\n",
            "\n",
            "1       81426\n",
            "7        2470\n",
            "2        1576\n",
            "3         681\n",
            "5         638\n",
            "        ...  \n",
            "440         1\n",
            "139         1\n",
            "150         1\n",
            "1034        1\n",
            "192         1\n",
            "Name: Duration, Length: 169, dtype: int64\n",
            "\n",
            "\n",
            "0      80804\n",
            "10       734\n",
            "1        508\n",
            "5        492\n",
            "20       409\n",
            "       ...  \n",
            "295        1\n",
            "146        1\n",
            "423        1\n",
            "551        1\n",
            "319        1\n",
            "Name: GrossProductionLoss, Length: 463, dtype: int64\n",
            "\n",
            "\n",
            "0       54997\n",
            "3        3272\n",
            "2        3018\n",
            "5        2792\n",
            "1        2658\n",
            "        ...  \n",
            "787         1\n",
            "275         1\n",
            "211         1\n",
            "429         1\n",
            "7100        1\n",
            "Name: AffectedProduction, Length: 392, dtype: int64\n",
            "\n",
            "\n",
            "No     54997\n",
            "Yes    34483\n",
            "Name: IsAffectingProduction, dtype: int64\n",
            "\n",
            "\n",
            "0        38724\n",
            "267       7579\n",
            "400       5365\n",
            "133       3397\n",
            "534       3107\n",
            "         ...  \n",
            "59850        1\n",
            "407          1\n",
            "8595         1\n",
            "2390         1\n",
            "479          1\n",
            "Name: LaborCost, Length: 1357, dtype: int64\n",
            "\n",
            "\n",
            "0        53810\n",
            "100       3183\n",
            "200       2748\n",
            "300       2221\n",
            "500       2059\n",
            "         ...  \n",
            "2151         1\n",
            "1637         1\n",
            "15970        1\n",
            "3620         1\n",
            "736          1\n",
            "Name: MaterialCost, Length: 1346, dtype: int64\n",
            "\n",
            "\n",
            "0        37142\n",
            "267       3009\n",
            "400       2383\n",
            "133       1638\n",
            "534       1120\n",
            "         ...  \n",
            "12534        1\n",
            "3097         1\n",
            "6387         1\n",
            "10421        1\n",
            "32           1\n",
            "Name: TotalCost, Length: 4059, dtype: int64\n",
            "\n",
            "\n",
            "None                                                            4177\n",
            "Crismay Alvarez - JCNA - OP -  Cell 6612437392  off 391-4429    3610\n",
            "Shane Howell - OP - RUEB                                        3457\n",
            "Ryan Blake - WNAH - 661-282-6559                                2779\n",
            "Mac Fernandez - KONZ - HO - IE - 661-333-7069                   2329\n",
            "                                                                ... \n",
            "PUMPING UNIT REPAIR CREW; WEATHERFORD – ANDREWS                    1\n",
            "PUMPING UNIT REPAIR CREW; WEATHERFORD – ODESSA SOUTH EAST          1\n",
            "Chuck Voliva - DKDC - CR - 1-661-344-6147                          1\n",
            "Justin Kirkland                                                    1\n",
            "Spinner, Willie L (Billy)                                          1\n",
            "Name: Assigned, Length: 1140, dtype: int64\n",
            "\n",
            "\n",
            "Operations                                        17318\n",
            "Head Operator                                     12505\n",
            "Electronic Instrument Specialist                  12312\n",
            "Electrician (1 Person)                             8118\n",
            "Production Specialist Surface                      5312\n",
            "                                                  ...  \n",
            "Gang (5 Person)                                       1\n",
            "Electrician Service Truck                             1\n",
            "Principle Investigator                                1\n",
            "Equipment Other (Mower, Trailer, Steamer etc.)        1\n",
            "Cogen Automation Tech                                 1\n",
            "Name: Trade, Length: 78, dtype: int64\n",
            "\n",
            "\n",
            "Mechanical    64959\n",
            "Electric      21642\n",
            "Admin          1654\n",
            "Other          1225\n",
            "Name: TradeGroup, dtype: int64\n",
            "\n",
            "\n",
            "Surface Maintenance Supervisor    61327\n",
            "Production Supervisor             17318\n",
            "IE Supervisor                      9330\n",
            "Surface Maintenance Advisor        1505\n",
            "Name: SupervisorRole, dtype: int64\n",
            "\n",
            "\n",
            "NOTAPPLICABLE         34887\n",
            "None                  11316\n",
            "LUFKIN                 8505\n",
            "NONEAVAILABLE          3959\n",
            "AMERICAN               2619\n",
            "                      ...  \n",
            "AGCO                      1\n",
            "HATFIELD                  1\n",
            "BUDGIT                    1\n",
            "CONSOLIDATEDFABINC        1\n",
            "MEXIATANK                 1\n",
            "Name: Manufacturer, Length: 914, dtype: int64\n",
            "\n",
            "\n",
            "NONE            28558\n",
            "None            25366\n",
            "CONV             1144\n",
            "CONVENTIONAL      974\n",
            "C-114-119-86      858\n",
            "                ...  \n",
            "9106D513809E        1\n",
            "6' X 10'            1\n",
            "L-C-320-120         1\n",
            "4570001             1\n",
            "9112E513809         1\n",
            "Name: Model, Length: 5366, dtype: int64\n",
            "\n",
            "\n",
            "N    87957\n",
            "Y     1523\n",
            "Name: Safety, dtype: int64\n",
            "\n",
            "\n",
            "N    88641\n",
            "Y      839\n",
            "Name: Reopened, dtype: int64\n",
            "\n",
            "\n",
            "None                                         944\n",
            "CLYBURN, JOHN                                878\n",
            "CROW, CHARLIE                                754\n",
            "William Gunter - JSIM - OP - 661-369-1047    722\n",
            "SHORT, JAMI                                  675\n",
            "                                            ... \n",
            "WILSON, JESSE                                  1\n",
            "Jason J Hebert                                 1\n",
            "HERNANDEZ, YAMEL                               1\n",
            "Deaville, John                                 1\n",
            "McLemore, Richard                              1\n",
            "Name: CreatedBy, Length: 1726, dtype: int64\n",
            "\n",
            "\n",
            "NIETO, JOSE (432) 202-1735                        9718\n",
            "Michael Bennett - WHKE- Planner - 661-333-5163    6478\n",
            "CARLILE, CHRIS    (432) 209-2920                  6045\n",
            "None                                              5595\n",
            "PEREZ, JAIRO (575) 704-2009                       5004\n",
            "                                                  ... \n",
            "Quentin Winch                                        1\n",
            "Tartal, Krista                                       1\n",
            "Sean Stimpson - CRPL-  1-661-340-9187                1\n",
            "Derek Rae                                            1\n",
            "Murphy, Perry                                        1\n",
            "Name: UpdatedBy, Length: 329, dtype: int64\n",
            "\n",
            "\n",
            "22/03/17    223\n",
            "23/03/17    216\n",
            "06/03/17    204\n",
            "24/07/17    195\n",
            "11/01/17    194\n",
            "           ... \n",
            "12/07/12      1\n",
            "01/08/12      1\n",
            "21/05/14      1\n",
            "24/10/11      1\n",
            "07/11/14      1\n",
            "Name: CreatedDate, Length: 1590, dtype: int64\n",
            "\n",
            "\n",
            "13/02/18    2581\n",
            "19/02/18    1697\n",
            "30/03/18    1538\n",
            "20/02/18    1455\n",
            "14/07/17    1271\n",
            "            ... \n",
            "31/12/15       1\n",
            "24/12/17       1\n",
            "01/10/15       1\n",
            "21/07/16       1\n",
            "27/10/16       1\n",
            "Name: UpdatedDate, Length: 1021, dtype: int64\n",
            "\n",
            "\n",
            "22/03/17    224\n",
            "23/03/17    215\n",
            "06/03/17    199\n",
            "09/01/17    195\n",
            "11/01/17    194\n",
            "           ... \n",
            "11/05/14      1\n",
            "16/07/12      1\n",
            "12/09/12      1\n",
            "22/08/15      1\n",
            "07/11/14      1\n",
            "Name: ReportDate, Length: 1594, dtype: int64\n",
            "\n",
            "\n",
            "1     10419\n",
            "3      9351\n",
            "2      9001\n",
            "5      8607\n",
            "4      8294\n",
            "12     7011\n",
            "6      6930\n",
            "8      6208\n",
            "10     6161\n",
            "9      5962\n",
            "11     5805\n",
            "7      5731\n",
            "Name: ReportMonth, dtype: int64\n",
            "\n",
            "\n",
            "4    16630\n",
            "3    15782\n",
            "5    15579\n",
            "2    15529\n",
            "6    10795\n",
            "1     8644\n",
            "7     6521\n",
            "Name: ReportWeekDay, dtype: int64\n",
            "\n",
            "\n",
            "12/01/17    238\n",
            "26/01/17    235\n",
            "30/03/17    226\n",
            "16/02/17    225\n",
            "19/01/17    221\n",
            "           ... \n",
            "03/10/11      1\n",
            "03/06/14      1\n",
            "22/05/14      1\n",
            "31/07/14      1\n",
            "07/11/14      1\n",
            "Name: TargetDate, Length: 1467, dtype: int64\n",
            "\n",
            "\n",
            "12/01/17    238\n",
            "26/01/17    235\n",
            "30/03/17    226\n",
            "16/02/17    225\n",
            "19/01/17    221\n",
            "           ... \n",
            "19/11/13      1\n",
            "03/10/11      1\n",
            "03/06/14      1\n",
            "22/05/14      1\n",
            "07/11/14      1\n",
            "Name: SchEndDate, Length: 1466, dtype: int64\n",
            "\n",
            "\n",
            "0      85849\n",
            "1        252\n",
            "7        233\n",
            "8        196\n",
            "2        191\n",
            "       ...  \n",
            "803        1\n",
            "227        1\n",
            "339        1\n",
            "163        1\n",
            "184        1\n",
            "Name: ActualDuration, Length: 280, dtype: int64\n",
            "\n",
            "\n",
            "None           85692\n",
            "Future Week     3788\n",
            "Name: ScheduleCompliant, dtype: int64\n",
            "\n",
            "\n",
            "22/02/17    234\n",
            "17/01/17    229\n",
            "01/03/17    225\n",
            "16/02/17    222\n",
            "06/09/17    217\n",
            "           ... \n",
            "17/04/16      1\n",
            "28/06/15      1\n",
            "04/09/16      1\n",
            "19/03/16      1\n",
            "08/02/15      1\n",
            "Name: CompletedDate, Length: 1235, dtype: int64\n",
            "\n",
            "\n",
            "1     10716\n",
            "3     10296\n",
            "2      9126\n",
            "4      8668\n",
            "5      8609\n",
            "6      7737\n",
            "8      6050\n",
            "10     5949\n",
            "9      5757\n",
            "7      5658\n",
            "12     5505\n",
            "11     5409\n",
            "Name: CompletedMonth, dtype: int64\n",
            "\n",
            "\n",
            "4    18962\n",
            "5    18960\n",
            "3    17996\n",
            "2    16366\n",
            "6    13088\n",
            "7     2198\n",
            "1     1910\n",
            "Name: CompletedWeekDay, dtype: int64\n",
            "\n",
            "\n",
            "0    88246\n",
            "1     1210\n",
            "2       18\n",
            "3        6\n",
            "Name: TBF, dtype: int64\n",
            "\n",
            "\n",
            "0.0       2618\n",
            "1.0       1281\n",
            "7.0        799\n",
            "2.0        751\n",
            "6.0        732\n",
            "          ... \n",
            "849.0        1\n",
            "1047.0       1\n",
            "1176.0       1\n",
            "1019.0       1\n",
            "998.0        1\n",
            "Name: TBF_Equipment, Length: 1020, dtype: int64\n",
            "\n",
            "\n"
          ]
        }
      ]
    },
    {
      "cell_type": "code",
      "metadata": {
        "colab": {
          "base_uri": "https://localhost:8080/",
          "height": 635
        },
        "id": "hLswV9ak2vCG",
        "outputId": "7ebfda8d-4899-43a8-da7f-65e1afe53f24"
      },
      "source": [
        "# -----------------------------------------------------------------------------------------------------------------    \n",
        "# Drop non-informative columns to reduce the size of the dataset\n",
        "# -----------------------------------------------------------------------------------------------------------------    \n",
        "datasetFiltered = datasetFiltered.drop(['Comment', 'EquipmentCode', 'EquipmentRollupCode', 'EquipmentDescription', 'StatusCode', 'Action', 'Requirement', 'LaborCost', 'MaterialCost', 'Assigned', 'Trade', 'TradeGroup', 'SupervisorRole', 'Model', 'Safety', 'Reopened',  'CreatedBy', 'UpdatedBy', 'CreatedDate', 'UpdatedDate', 'ReportDate', 'ReportMonth', 'ReportWeekDay', 'TargetDate', 'SchEndDate', 'ScheduleCompliant',  'CompletedDate', 'CompletedMonth', 'CompletedWeekDay'], axis=1)\n",
        "datasetFiltered                                        "
      ],
      "execution_count": null,
      "outputs": [
        {
          "output_type": "execute_result",
          "data": {
            "text/html": [
              "<div>\n",
              "<style scoped>\n",
              "    .dataframe tbody tr th:only-of-type {\n",
              "        vertical-align: middle;\n",
              "    }\n",
              "\n",
              "    .dataframe tbody tr th {\n",
              "        vertical-align: top;\n",
              "    }\n",
              "\n",
              "    .dataframe thead th {\n",
              "        text-align: right;\n",
              "    }\n",
              "</style>\n",
              "<table border=\"1\" class=\"dataframe\">\n",
              "  <thead>\n",
              "    <tr style=\"text-align: right;\">\n",
              "      <th></th>\n",
              "      <th>FieldProductionTeam</th>\n",
              "      <th>EquipmentType</th>\n",
              "      <th>EquipmentClass</th>\n",
              "      <th>EquipmentCriticality</th>\n",
              "      <th>Priority</th>\n",
              "      <th>Cause</th>\n",
              "      <th>FailureReason</th>\n",
              "      <th>Duration</th>\n",
              "      <th>GrossProductionLoss</th>\n",
              "      <th>AffectedProduction</th>\n",
              "      <th>IsAffectingProduction</th>\n",
              "      <th>TotalCost</th>\n",
              "      <th>Manufacturer</th>\n",
              "      <th>ActualDuration</th>\n",
              "      <th>TBF</th>\n",
              "      <th>TBF_Equipment</th>\n",
              "    </tr>\n",
              "  </thead>\n",
              "  <tbody>\n",
              "    <tr>\n",
              "      <th>0</th>\n",
              "      <td>RANGELY</td>\n",
              "      <td>System</td>\n",
              "      <td>SE - Battery</td>\n",
              "      <td>NA - Not Applicable</td>\n",
              "      <td>2</td>\n",
              "      <td>Plugged</td>\n",
              "      <td>Pipe - Piping</td>\n",
              "      <td>1</td>\n",
              "      <td>0</td>\n",
              "      <td>0</td>\n",
              "      <td>No</td>\n",
              "      <td>1700</td>\n",
              "      <td>NOTAPPLICABLE</td>\n",
              "      <td>-1</td>\n",
              "      <td>0</td>\n",
              "      <td>4.0</td>\n",
              "    </tr>\n",
              "    <tr>\n",
              "      <th>1</th>\n",
              "      <td>VAN</td>\n",
              "      <td>System</td>\n",
              "      <td>Line - Production Flowline</td>\n",
              "      <td>3 - Low</td>\n",
              "      <td>4</td>\n",
              "      <td>Missing</td>\n",
              "      <td>Assembly - Pump, Chemical</td>\n",
              "      <td>1</td>\n",
              "      <td>0</td>\n",
              "      <td>0</td>\n",
              "      <td>No</td>\n",
              "      <td>700</td>\n",
              "      <td>NOTAPPLICABLE</td>\n",
              "      <td>3</td>\n",
              "      <td>0</td>\n",
              "      <td>NaN</td>\n",
              "    </tr>\n",
              "    <tr>\n",
              "      <th>2</th>\n",
              "      <td>VAN</td>\n",
              "      <td>Asset</td>\n",
              "      <td>Pumping Unit</td>\n",
              "      <td>3 - Low</td>\n",
              "      <td>3</td>\n",
              "      <td>Loose</td>\n",
              "      <td>Component - Belt</td>\n",
              "      <td>1</td>\n",
              "      <td>0</td>\n",
              "      <td>4</td>\n",
              "      <td>Yes</td>\n",
              "      <td>300</td>\n",
              "      <td>LUFKIN</td>\n",
              "      <td>19</td>\n",
              "      <td>0</td>\n",
              "      <td>1.0</td>\n",
              "    </tr>\n",
              "    <tr>\n",
              "      <th>3</th>\n",
              "      <td>VAN</td>\n",
              "      <td>System</td>\n",
              "      <td>SE - Field</td>\n",
              "      <td>NA - Not Applicable</td>\n",
              "      <td>3</td>\n",
              "      <td>Improper Fit</td>\n",
              "      <td>Pipe - Piping</td>\n",
              "      <td>1</td>\n",
              "      <td>0</td>\n",
              "      <td>0</td>\n",
              "      <td>No</td>\n",
              "      <td>457</td>\n",
              "      <td>NOTAPPLICABLE</td>\n",
              "      <td>19</td>\n",
              "      <td>0</td>\n",
              "      <td>0.0</td>\n",
              "    </tr>\n",
              "    <tr>\n",
              "      <th>4</th>\n",
              "      <td>VAN</td>\n",
              "      <td>System</td>\n",
              "      <td>SE - Field</td>\n",
              "      <td>NA - Not Applicable</td>\n",
              "      <td>3</td>\n",
              "      <td>Fouling</td>\n",
              "      <td>Pump, other</td>\n",
              "      <td>1</td>\n",
              "      <td>0</td>\n",
              "      <td>0</td>\n",
              "      <td>No</td>\n",
              "      <td>483</td>\n",
              "      <td>NOTAPPLICABLE</td>\n",
              "      <td>19</td>\n",
              "      <td>0</td>\n",
              "      <td>0.0</td>\n",
              "    </tr>\n",
              "    <tr>\n",
              "      <th>...</th>\n",
              "      <td>...</td>\n",
              "      <td>...</td>\n",
              "      <td>...</td>\n",
              "      <td>...</td>\n",
              "      <td>...</td>\n",
              "      <td>...</td>\n",
              "      <td>...</td>\n",
              "      <td>...</td>\n",
              "      <td>...</td>\n",
              "      <td>...</td>\n",
              "      <td>...</td>\n",
              "      <td>...</td>\n",
              "      <td>...</td>\n",
              "      <td>...</td>\n",
              "      <td>...</td>\n",
              "      <td>...</td>\n",
              "    </tr>\n",
              "    <tr>\n",
              "      <th>89475</th>\n",
              "      <td>KR</td>\n",
              "      <td>Position</td>\n",
              "      <td>Pump - Centrifugal Single Stage</td>\n",
              "      <td>3 - Low</td>\n",
              "      <td>3</td>\n",
              "      <td>Flow Cut / Erosion / Wear</td>\n",
              "      <td>Component - Rings, Carbon</td>\n",
              "      <td>1</td>\n",
              "      <td>0</td>\n",
              "      <td>0</td>\n",
              "      <td>No</td>\n",
              "      <td>0</td>\n",
              "      <td>GOULDSPUMPS</td>\n",
              "      <td>0</td>\n",
              "      <td>0</td>\n",
              "      <td>NaN</td>\n",
              "    </tr>\n",
              "    <tr>\n",
              "      <th>89476</th>\n",
              "      <td>TAH</td>\n",
              "      <td>Position</td>\n",
              "      <td>Motor - AC Induction</td>\n",
              "      <td>R2 - Moderate</td>\n",
              "      <td>4</td>\n",
              "      <td>Dirty</td>\n",
              "      <td>Component - Filter</td>\n",
              "      <td>1</td>\n",
              "      <td>0</td>\n",
              "      <td>0</td>\n",
              "      <td>No</td>\n",
              "      <td>845</td>\n",
              "      <td>ELECTRICMACHINE</td>\n",
              "      <td>0</td>\n",
              "      <td>0</td>\n",
              "      <td>NaN</td>\n",
              "    </tr>\n",
              "    <tr>\n",
              "      <th>89477</th>\n",
              "      <td>VEALMOOR</td>\n",
              "      <td>Asset</td>\n",
              "      <td>Pumping Unit</td>\n",
              "      <td>R3 - Low</td>\n",
              "      <td>3</td>\n",
              "      <td>Broken</td>\n",
              "      <td>End Device - Switch, Pressure</td>\n",
              "      <td>1</td>\n",
              "      <td>25</td>\n",
              "      <td>3</td>\n",
              "      <td>Yes</td>\n",
              "      <td>917</td>\n",
              "      <td>LUFKIN</td>\n",
              "      <td>0</td>\n",
              "      <td>0</td>\n",
              "      <td>NaN</td>\n",
              "    </tr>\n",
              "    <tr>\n",
              "      <th>89478</th>\n",
              "      <td>CY</td>\n",
              "      <td>Position</td>\n",
              "      <td>Vessel - Dehydrator</td>\n",
              "      <td>3 - Low</td>\n",
              "      <td>2</td>\n",
              "      <td>Out of Calibration</td>\n",
              "      <td>Wiring</td>\n",
              "      <td>1</td>\n",
              "      <td>0</td>\n",
              "      <td>0</td>\n",
              "      <td>No</td>\n",
              "      <td>0</td>\n",
              "      <td>None</td>\n",
              "      <td>0</td>\n",
              "      <td>0</td>\n",
              "      <td>NaN</td>\n",
              "    </tr>\n",
              "    <tr>\n",
              "      <th>89479</th>\n",
              "      <td>TAH</td>\n",
              "      <td>Position</td>\n",
              "      <td>Safety - Public Address System</td>\n",
              "      <td>R3 - Low</td>\n",
              "      <td>4</td>\n",
              "      <td>Broken</td>\n",
              "      <td>Other - Handset</td>\n",
              "      <td>1</td>\n",
              "      <td>0</td>\n",
              "      <td>0</td>\n",
              "      <td>No</td>\n",
              "      <td>495</td>\n",
              "      <td>NOTAPPLICABLE</td>\n",
              "      <td>0</td>\n",
              "      <td>0</td>\n",
              "      <td>NaN</td>\n",
              "    </tr>\n",
              "  </tbody>\n",
              "</table>\n",
              "<p>89480 rows × 16 columns</p>\n",
              "</div>"
            ],
            "text/plain": [
              "      FieldProductionTeam EquipmentType  ... TBF TBF_Equipment\n",
              "0                 RANGELY        System  ...   0           4.0\n",
              "1                     VAN        System  ...   0           NaN\n",
              "2                     VAN         Asset  ...   0           1.0\n",
              "3                     VAN        System  ...   0           0.0\n",
              "4                     VAN        System  ...   0           0.0\n",
              "...                   ...           ...  ...  ..           ...\n",
              "89475                  KR      Position  ...   0           NaN\n",
              "89476                 TAH      Position  ...   0           NaN\n",
              "89477            VEALMOOR         Asset  ...   0           NaN\n",
              "89478                  CY      Position  ...   0           NaN\n",
              "89479                 TAH      Position  ...   0           NaN\n",
              "\n",
              "[89480 rows x 16 columns]"
            ]
          },
          "metadata": {},
          "execution_count": 11
        }
      ]
    },
    {
      "cell_type": "code",
      "metadata": {
        "id": "QYhbq9rLnKR-",
        "colab": {
          "base_uri": "https://localhost:8080/",
          "height": 1000
        },
        "outputId": "e0e2852c-2cbc-4697-f9e6-9f8bdfbc46f9"
      },
      "source": [
        "sns.pairplot(data = datasetFiltered, dropna = True)"
      ],
      "execution_count": null,
      "outputs": [
        {
          "output_type": "execute_result",
          "data": {
            "text/plain": [
              "<seaborn.axisgrid.PairGrid at 0x7fe6a4190c90>"
            ]
          },
          "metadata": {},
          "execution_count": 53
        },
        {
          "output_type": "display_data",
          "data": {
            "image/png": "[encoded data removed]",
            "text/plain": [
              "<Figure size 1260x1260 with 56 Axes>"
            ]
          },
          "metadata": {
            "needs_background": "light"
          }
        }
      ]
    },
    {
      "cell_type": "code",
      "metadata": {
        "id": "JaDhgKNT2vEd"
      },
      "source": [
        "# -----------------------------------------------------------------------------------------------------------------    \n",
        "# Encode non-numerical columns to numerical\n",
        "# -----------------------------------------------------------------------------------------------------------------    \n",
        "datasetEncode = pd.DataFrame(data=None, columns=datasetFiltered.columns)\n",
        "label_encoder = preprocessing.LabelEncoder()\n",
        "numericalColumns = datasetEncode._get_numeric_data().columns\n",
        "\n",
        "for column in datasetFiltered.columns:\n",
        "    if column not in numericalColumns:\n",
        "        datasetEncode[column] = label_encoder.fit_transform(datasetFiltered[column])\n",
        "print(datasetEncode)"
      ],
      "execution_count": null,
      "outputs": []
    },
    {
      "cell_type": "code",
      "metadata": {
        "colab": {
          "base_uri": "https://localhost:8080/",
          "height": 300
        },
        "id": "s3pytmrgPJJd",
        "outputId": "5a54db04-916d-4d80-831f-f4d11652fce8"
      },
      "source": [
        "datasetFiltered.describe()"
      ],
      "execution_count": null,
      "outputs": [
        {
          "output_type": "execute_result",
          "data": {
            "text/html": [
              "<div>\n",
              "<style scoped>\n",
              "    .dataframe tbody tr th:only-of-type {\n",
              "        vertical-align: middle;\n",
              "    }\n",
              "\n",
              "    .dataframe tbody tr th {\n",
              "        vertical-align: top;\n",
              "    }\n",
              "\n",
              "    .dataframe thead th {\n",
              "        text-align: right;\n",
              "    }\n",
              "</style>\n",
              "<table border=\"1\" class=\"dataframe\">\n",
              "  <thead>\n",
              "    <tr style=\"text-align: right;\">\n",
              "      <th></th>\n",
              "      <th>Duration</th>\n",
              "      <th>GrossProductionLoss</th>\n",
              "      <th>AffectedProduction</th>\n",
              "      <th>TotalCost</th>\n",
              "      <th>ActualDuration</th>\n",
              "      <th>TBF</th>\n",
              "      <th>TBF_Equipment</th>\n",
              "    </tr>\n",
              "  </thead>\n",
              "  <tbody>\n",
              "    <tr>\n",
              "      <th>count</th>\n",
              "      <td>89480.000000</td>\n",
              "      <td>89480.000000</td>\n",
              "      <td>89480.000000</td>\n",
              "      <td>8.948000e+04</td>\n",
              "      <td>89480.000000</td>\n",
              "      <td>89480.000000</td>\n",
              "      <td>43698.000000</td>\n",
              "    </tr>\n",
              "    <tr>\n",
              "      <th>mean</th>\n",
              "      <td>1.979001</td>\n",
              "      <td>15.377347</td>\n",
              "      <td>17.170586</td>\n",
              "      <td>7.245155e+02</td>\n",
              "      <td>1.495451</td>\n",
              "      <td>0.014126</td>\n",
              "      <td>124.043297</td>\n",
              "    </tr>\n",
              "    <tr>\n",
              "      <th>std</th>\n",
              "      <td>12.657583</td>\n",
              "      <td>661.908685</td>\n",
              "      <td>292.325789</td>\n",
              "      <td>1.767736e+04</td>\n",
              "      <td>20.174754</td>\n",
              "      <td>0.121373</td>\n",
              "      <td>168.194937</td>\n",
              "    </tr>\n",
              "    <tr>\n",
              "      <th>min</th>\n",
              "      <td>1.000000</td>\n",
              "      <td>0.000000</td>\n",
              "      <td>0.000000</td>\n",
              "      <td>0.000000e+00</td>\n",
              "      <td>-4.000000</td>\n",
              "      <td>0.000000</td>\n",
              "      <td>0.000000</td>\n",
              "    </tr>\n",
              "    <tr>\n",
              "      <th>25%</th>\n",
              "      <td>1.000000</td>\n",
              "      <td>0.000000</td>\n",
              "      <td>0.000000</td>\n",
              "      <td>0.000000e+00</td>\n",
              "      <td>0.000000</td>\n",
              "      <td>0.000000</td>\n",
              "      <td>14.000000</td>\n",
              "    </tr>\n",
              "    <tr>\n",
              "      <th>50%</th>\n",
              "      <td>1.000000</td>\n",
              "      <td>0.000000</td>\n",
              "      <td>0.000000</td>\n",
              "      <td>2.330000e+02</td>\n",
              "      <td>0.000000</td>\n",
              "      <td>0.000000</td>\n",
              "      <td>56.000000</td>\n",
              "    </tr>\n",
              "    <tr>\n",
              "      <th>75%</th>\n",
              "      <td>1.000000</td>\n",
              "      <td>0.000000</td>\n",
              "      <td>5.000000</td>\n",
              "      <td>6.022500e+02</td>\n",
              "      <td>0.000000</td>\n",
              "      <td>0.000000</td>\n",
              "      <td>168.000000</td>\n",
              "    </tr>\n",
              "    <tr>\n",
              "      <th>max</th>\n",
              "      <td>1171.000000</td>\n",
              "      <td>156000.000000</td>\n",
              "      <td>50000.000000</td>\n",
              "      <td>5.010670e+06</td>\n",
              "      <td>1384.000000</td>\n",
              "      <td>3.000000</td>\n",
              "      <td>1253.000000</td>\n",
              "    </tr>\n",
              "  </tbody>\n",
              "</table>\n",
              "</div>"
            ],
            "text/plain": [
              "           Duration  GrossProductionLoss  ...           TBF  TBF_Equipment\n",
              "count  89480.000000         89480.000000  ...  89480.000000   43698.000000\n",
              "mean       1.979001            15.377347  ...      0.014126     124.043297\n",
              "std       12.657583           661.908685  ...      0.121373     168.194937\n",
              "min        1.000000             0.000000  ...      0.000000       0.000000\n",
              "25%        1.000000             0.000000  ...      0.000000      14.000000\n",
              "50%        1.000000             0.000000  ...      0.000000      56.000000\n",
              "75%        1.000000             0.000000  ...      0.000000     168.000000\n",
              "max     1171.000000        156000.000000  ...      3.000000    1253.000000\n",
              "\n",
              "[8 rows x 7 columns]"
            ]
          },
          "metadata": {},
          "execution_count": 12
        }
      ]
    },
    {
      "cell_type": "code",
      "metadata": {
        "colab": {
          "base_uri": "https://localhost:8080/"
        },
        "id": "mOxP75FQRYSh",
        "outputId": "50cd75dc-ff68-4d95-d882-1b38f6e56fc3"
      },
      "source": [
        "dfmean=datasetFiltered[[\"TotalCost\",\"ActualDuration\",\"TBF\"]].mean()\n",
        "print(dfmean)"
      ],
      "execution_count": null,
      "outputs": [
        {
          "output_type": "stream",
          "name": "stdout",
          "text": [
            "TotalCost         724.515512\n",
            "ActualDuration      1.495451\n",
            "TBF                 0.014126\n",
            "dtype: float64\n"
          ]
        }
      ]
    },
    {
      "cell_type": "code",
      "metadata": {
        "colab": {
          "base_uri": "https://localhost:8080/"
        },
        "id": "q1cYYWwyStyN",
        "outputId": "44a29656-9567-4543-e734-148bb205ce3a"
      },
      "source": [
        "dfstd=datasetFiltered[[\"TotalCost\",\"ActualDuration\",\"TBF\"]].std()\n",
        "print(dfstd)"
      ],
      "execution_count": null,
      "outputs": [
        {
          "output_type": "stream",
          "name": "stdout",
          "text": [
            "TotalCost         17677.358268\n",
            "ActualDuration       20.174754\n",
            "TBF                   0.121373\n",
            "dtype: float64\n"
          ]
        }
      ]
    },
    {
      "cell_type": "code",
      "metadata": {
        "colab": {
          "base_uri": "https://localhost:8080/"
        },
        "id": "0YhyOP4TT2US",
        "outputId": "d4c69c28-5bab-4502-d5b4-f0834b1c6688"
      },
      "source": [
        "dfmin=datasetFiltered[[\"TotalCost\",\"ActualDuration\",\"TBF\"]].min()\n",
        "print(dfmin)"
      ],
      "execution_count": null,
      "outputs": [
        {
          "output_type": "stream",
          "name": "stdout",
          "text": [
            "TotalCost         0\n",
            "ActualDuration   -4\n",
            "TBF               0\n",
            "dtype: int64\n"
          ]
        }
      ]
    },
    {
      "cell_type": "code",
      "metadata": {
        "colab": {
          "base_uri": "https://localhost:8080/"
        },
        "id": "vc-6yCWsT_vT",
        "outputId": "279547e9-e8e6-459e-9def-8283ccaa624d"
      },
      "source": [
        "dfmax=datasetFiltered[[\"TotalCost\",\"ActualDuration\",\"TBF\"]].max()\n",
        "print(dfmax)"
      ],
      "execution_count": null,
      "outputs": [
        {
          "output_type": "stream",
          "name": "stdout",
          "text": [
            "TotalCost         5010670\n",
            "ActualDuration       1384\n",
            "TBF                     3\n",
            "dtype: int64\n"
          ]
        }
      ]
    },
    {
      "cell_type": "code",
      "metadata": {
        "id": "EAXq8cXpUQ2m",
        "colab": {
          "base_uri": "https://localhost:8080/",
          "height": 455
        },
        "outputId": "5726d012-ec2b-48aa-f7a2-51269aba107e"
      },
      "source": [
        "datasetFiltered.hist()\n"
      ],
      "execution_count": null,
      "outputs": [
        {
          "output_type": "execute_result",
          "data": {
            "text/plain": [
              "array([[<matplotlib.axes._subplots.AxesSubplot object at 0x7fe7d452f8d0>,\n",
              "        <matplotlib.axes._subplots.AxesSubplot object at 0x7fe7d4519b50>,\n",
              "        <matplotlib.axes._subplots.AxesSubplot object at 0x7fe7d44f7f90>],\n",
              "       [<matplotlib.axes._subplots.AxesSubplot object at 0x7fe7d44385d0>,\n",
              "        <matplotlib.axes._subplots.AxesSubplot object at 0x7fe7d446dbd0>,\n",
              "        <matplotlib.axes._subplots.AxesSubplot object at 0x7fe7d4430210>],\n",
              "       [<matplotlib.axes._subplots.AxesSubplot object at 0x7fe7d43e5890>,\n",
              "        <matplotlib.axes._subplots.AxesSubplot object at 0x7fe7d439cdd0>,\n",
              "        <matplotlib.axes._subplots.AxesSubplot object at 0x7fe7d439ce10>]],\n",
              "      dtype=object)"
            ]
          },
          "metadata": {},
          "execution_count": 26
        },
        {
          "output_type": "display_data",
          "data": {
            "image/png": "[encoded data removed]",
            "text/plain": [
              "<Figure size 432x288 with 9 Axes>"
            ]
          },
          "metadata": {
            "needs_background": "light"
          }
        }
      ]
    },
    {
      "cell_type": "code",
      "metadata": {
        "id": "ATaTpPUFTPu1",
        "colab": {
          "base_uri": "https://localhost:8080/",
          "height": 281
        },
        "outputId": "4a3b7c2e-83cc-4fa6-b93a-c98581e6c8a8"
      },
      "source": [
        "dfhist=datasetFiltered[[\"TotalCost\",\"ActualDuration\",\"TBF\"]].hist()"
      ],
      "execution_count": null,
      "outputs": [
        {
          "output_type": "display_data",
          "data": {
            "image/png": "[encoded data removed]",
            "text/plain": [
              "<Figure size 432x288 with 4 Axes>"
            ]
          },
          "metadata": {
            "needs_background": "light"
          }
        }
      ]
    },
    {
      "cell_type": "code",
      "metadata": {
        "id": "IKrx4__zeF66",
        "colab": {
          "base_uri": "https://localhost:8080/"
        },
        "outputId": "91a60359-9069-4b55-8346-9b2895e3d222"
      },
      "source": [
        "datasetFiltered.TotalCost.quantile([0.2,0.8])\n"
      ],
      "execution_count": null,
      "outputs": [
        {
          "output_type": "execute_result",
          "data": {
            "text/plain": [
              "0.2      0.0\n",
              "0.8    742.0\n",
              "Name: TotalCost, dtype: float64"
            ]
          },
          "metadata": {},
          "execution_count": 42
        }
      ]
    },
    {
      "cell_type": "code",
      "metadata": {
        "id": "_8vs2xKJeISJ",
        "colab": {
          "base_uri": "https://localhost:8080/"
        },
        "outputId": "a86a905e-e09d-4ed8-a03b-584604dd3a4b"
      },
      "source": [
        "datasetFiltered.TBF.quantile([0.8,0.2])\n"
      ],
      "execution_count": null,
      "outputs": [
        {
          "output_type": "execute_result",
          "data": {
            "text/plain": [
              "0.8    0.0\n",
              "0.2    0.0\n",
              "Name: TBF, dtype: float64"
            ]
          },
          "metadata": {},
          "execution_count": 43
        }
      ]
    },
    {
      "cell_type": "code",
      "metadata": {
        "id": "ywrkIXqeeKHW",
        "colab": {
          "base_uri": "https://localhost:8080/"
        },
        "outputId": "68ecfb9b-85bc-4970-83c4-4ba73547283f"
      },
      "source": [
        "datasetFiltered.TBF.quantile(.2)\n"
      ],
      "execution_count": null,
      "outputs": [
        {
          "output_type": "execute_result",
          "data": {
            "text/plain": [
              "0.0"
            ]
          },
          "metadata": {},
          "execution_count": 38
        }
      ]
    },
    {
      "cell_type": "code",
      "metadata": {
        "id": "MxeY58GyolQ4"
      },
      "source": [
        "datasetFiltered['cumulative_sum'] = datasetFiltered.TBF.cumsum()\n",
        "datasetFiltered['cumulative_perc'] = 100*datasetFiltered.cumulative_sum/datasetFiltered.TBF.sum()"
      ],
      "execution_count": null,
      "outputs": []
    },
    {
      "cell_type": "code",
      "metadata": {
        "id": "pGuM20nSotkT"
      },
      "source": [
        "df['cumulative_sum'] = df.total.cumsum()\n",
        "df['cumulative_perc'] = 100*df.cumulative_sum/df.total.sum()"
      ],
      "execution_count": null,
      "outputs": []
    },
    {
      "cell_type": "markdown",
      "metadata": {
        "id": "1OH988Kqvr2k"
      },
      "source": [
        "# PCA"
      ]
    },
    {
      "cell_type": "markdown",
      "metadata": {
        "id": "lRWQW7uIvtA1"
      },
      "source": [
        "# Machine Learning CatBoost"
      ]
    },
    {
      "cell_type": "code",
      "metadata": {
        "id": "YH10kaBwvzd2"
      },
      "source": [
        "df.drop(columns=['WorkOrder', 'Comment', 'EquipmentCode', 'EquipmentRollupCode', 'EquipmentDescription', 'StatusCode', 'StatusDescription', \n",
        "                 'StatusShortDescription', 'WOType', 'JobType', 'Action', 'Requirement', 'LaborCost', 'MaterialCost', 'Assigned', 'Trade', \n",
        "                 'TradeGroup', 'SupervisorRole', 'Model', 'CreatedBy', 'UpdatedBy', 'CreatedDate', 'UpdatedDate', 'ReportDate', \n",
        "                 'ReportMonth', 'ReportWeekDay', 'TargetDate', 'SchEndDate', 'ScheduleCompliant', 'PMOverdue', 'CompletedDate', \n",
        "                 'CompletedMonth', 'CompletedWeekDay'], inplace = True)\n",
        "\n",
        "df = df.fillna(0)\n",
        "\n",
        "df['Class1'] = np.where(df['Duration'] > 7, df['Duration'], 1)\n",
        "df['Class0'] = np.where(df['Class1'] <= 7, df['Class1'], 0)\n",
        "df['Class2'] = np.where(df['TotalCost'] > 6520, df['TotalCost'], 1)\n",
        "df['Class3'] = np.where(df['Class2'] <= 6520, df['Class2'], 0)\n",
        "df['Class4'] = np.where(df['TBF_Equipment'] > 40, df['TBF_Equipment'], 1)\n",
        "df['Class5'] = np.where(df['Class4'] <= 40, df['Class4'], 0)"
      ],
      "execution_count": null,
      "outputs": []
    },
    {
      "cell_type": "markdown",
      "metadata": {
        "id": "VHqAlIoQv90c"
      },
      "source": [
        "## Duration"
      ]
    },
    {
      "cell_type": "code",
      "metadata": {
        "id": "uecofEQ1wAav"
      },
      "source": [
        "y_true = df['Class0']\n",
        "X = df.drop(['TBF', 'Duration', 'Class1', 'Class2', 'Class3', 'Class4', 'Class5'], axis=1)"
      ],
      "execution_count": null,
      "outputs": []
    },
    {
      "cell_type": "code",
      "metadata": {
        "id": "_k2q8JiKwa-B"
      },
      "source": [
        "X_train, X_test, y_train, y_test = train_test_split(X, y_true, test_size=0.2)\n",
        "X_train, X_val, y_train, y_val = train_test_split(X_train, y_train, test_size=0.25)\n",
        "\n",
        "cat_features = ['FieldProductionTeam', 'EquipmentType', 'EquipmentClass',\n",
        "       'EquipmentCriticality', 'Cause', 'FailureReason', 'IsAffectingProduction', \n",
        "       'Manufacturer', 'Safety', 'Reopened']"
      ],
      "execution_count": null,
      "outputs": []
    },
    {
      "cell_type": "code",
      "metadata": {
        "id": "8nC_Q1NUwcp0"
      },
      "source": [
        "model = CatBoostClassifier(random_state=1110, eval_metric='F1')"
      ],
      "execution_count": null,
      "outputs": []
    },
    {
      "cell_type": "code",
      "metadata": {
        "id": "HhoTbzrNweIl"
      },
      "source": [
        "model.fit(X_train, y_train, cat_features=cat_features, eval_set=(X_val, y_val))"
      ],
      "execution_count": null,
      "outputs": []
    },
    {
      "cell_type": "code",
      "metadata": {
        "id": "R5Mfeiu7whly"
      },
      "source": [
        "y_pred = model.predict(X_test)\n",
        "y_pred"
      ],
      "execution_count": null,
      "outputs": []
    },
    {
      "cell_type": "code",
      "metadata": {
        "id": "Yofofyzfwh-p"
      },
      "source": [
        "metrics.f1_score(y_test, y_pred)"
      ],
      "execution_count": null,
      "outputs": []
    },
    {
      "cell_type": "code",
      "metadata": {
        "id": "SV6mW107wjKW"
      },
      "source": [
        "metrics.accuracy_score(y_test, y_pred)"
      ],
      "execution_count": null,
      "outputs": []
    },
    {
      "cell_type": "code",
      "metadata": {
        "id": "vTRSVgQTwkhP"
      },
      "source": [
        "cm = confusion_matrix(y_test,y_pred)\n",
        "print(cm)\n",
        "tn, fp, fn, tp = cm.ravel()"
      ],
      "execution_count": null,
      "outputs": []
    },
    {
      "cell_type": "code",
      "metadata": {
        "id": "xph6NtlxwmEb"
      },
      "source": [
        "cm2 = pd.crosstab(y_test,y_pred,rownames=['Actual'],colnames=['Predicted'])\n",
        "sns.heatmap(cm2,annot=True)"
      ],
      "execution_count": null,
      "outputs": []
    },
    {
      "cell_type": "markdown",
      "metadata": {
        "id": "z71d702YwrwI"
      },
      "source": [
        "## Total Cost"
      ]
    },
    {
      "cell_type": "code",
      "metadata": {
        "id": "4NcqhdvDwuxk"
      },
      "source": [
        "y_true = df['Class3']\n",
        "X = df.drop(['TBF_Equipment', 'TBF', 'GrossProductionLoss', 'AffectedProduction', 'TotalCost', 'Duration', 'ActualDuration', \n",
        "             'Class1', 'Class2', 'Class0', 'Class4', 'Class5'], axis=1)"
      ],
      "execution_count": null,
      "outputs": []
    },
    {
      "cell_type": "code",
      "metadata": {
        "id": "-F9-uqFpwwtB"
      },
      "source": [
        "X_train, X_test, y_train, y_test = train_test_split(X, y_true, test_size=0.2)\n",
        "X_train, X_val, y_train, y_val = train_test_split(X_train, y_train, test_size=0.25)\n",
        "\n",
        "cat_features = ['FieldProductionTeam', 'EquipmentType', 'EquipmentClass',\n",
        "       'EquipmentCriticality', 'Cause', 'FailureReason', 'IsAffectingProduction', \n",
        "       'Manufacturer', 'Safety', 'Reopened']"
      ],
      "execution_count": null,
      "outputs": []
    },
    {
      "cell_type": "code",
      "metadata": {
        "id": "1VfgfdYcwyg3"
      },
      "source": [
        "model = CatBoostClassifier(random_state=1110, eval_metric='F1')"
      ],
      "execution_count": null,
      "outputs": []
    },
    {
      "cell_type": "code",
      "metadata": {
        "id": "nnTd4UedwzwC"
      },
      "source": [
        "model.fit(X_train, y_train, cat_features=cat_features, eval_set=(X_val, y_val))"
      ],
      "execution_count": null,
      "outputs": []
    },
    {
      "cell_type": "code",
      "metadata": {
        "id": "ZP-GV4Bcw08Q"
      },
      "source": [
        "y_pred = model.predict(X_test)\n",
        "y_pred"
      ],
      "execution_count": null,
      "outputs": []
    },
    {
      "cell_type": "code",
      "metadata": {
        "id": "YFqzh1Cpw259"
      },
      "source": [
        "metrics.f1_score(y_test, y_pred)"
      ],
      "execution_count": null,
      "outputs": []
    },
    {
      "cell_type": "code",
      "metadata": {
        "id": "oKoOKSJ8w4AT"
      },
      "source": [
        "metrics.accuracy_score(y_test, y_pred)"
      ],
      "execution_count": null,
      "outputs": []
    },
    {
      "cell_type": "code",
      "metadata": {
        "id": "YfCnVL_Bw5hJ"
      },
      "source": [
        "cm = confusion_matrix(y_test,y_pred)\n",
        "print(cm)\n",
        "tn, fp, fn, tp = cm.ravel()"
      ],
      "execution_count": null,
      "outputs": []
    },
    {
      "cell_type": "code",
      "metadata": {
        "id": "IczIpQb-w7mE"
      },
      "source": [
        "cm2 = pd.crosstab(y_test,y_pred,rownames=['Actual'],colnames=['Predicted'])\n",
        "sns.heatmap(cm2,annot=True)"
      ],
      "execution_count": null,
      "outputs": []
    },
    {
      "cell_type": "markdown",
      "metadata": {
        "id": "BbV8cXhnw8hm"
      },
      "source": [
        "## Time between reports"
      ]
    },
    {
      "cell_type": "code",
      "metadata": {
        "id": "wC2YGTpJw_pi"
      },
      "source": [
        "y_true = df['Class5']\n",
        "X = df.drop(['TBF_Equipment', 'TBF', 'GrossProductionLoss', 'AffectedProduction', 'TotalCost', 'Duration', 'ActualDuration', \n",
        "             'Class1', 'Class2', 'Class0', 'Class4', 'Class3'], axis=1)"
      ],
      "execution_count": null,
      "outputs": []
    },
    {
      "cell_type": "code",
      "metadata": {
        "id": "2nx8_tSWxC5h"
      },
      "source": [
        "X_train, X_test, y_train, y_test = train_test_split(X, y_true, test_size=0.2)\n",
        "X_train, X_val, y_train, y_val = train_test_split(X_train, y_train, test_size=0.25)\n",
        "\n",
        "cat_features = ['FieldProductionTeam', 'EquipmentType', 'EquipmentClass',\n",
        "       'EquipmentCriticality', 'Cause', 'FailureReason', 'IsAffectingProduction', \n",
        "       'Manufacturer', 'Safety', 'Reopened']"
      ],
      "execution_count": null,
      "outputs": []
    },
    {
      "cell_type": "code",
      "metadata": {
        "id": "MMq7Lj2MxETY"
      },
      "source": [
        "model = CatBoostClassifier(random_state=1110, eval_metric='F1')"
      ],
      "execution_count": null,
      "outputs": []
    },
    {
      "cell_type": "code",
      "metadata": {
        "id": "1JsS52B8xFpx"
      },
      "source": [
        "model.fit(X_train, y_train, cat_features=cat_features, eval_set=(X_val, y_val))"
      ],
      "execution_count": null,
      "outputs": []
    },
    {
      "cell_type": "code",
      "metadata": {
        "id": "uKT5_WgFxG_s"
      },
      "source": [
        "y_pred = model.predict(X_test)\n",
        "y_pred"
      ],
      "execution_count": null,
      "outputs": []
    },
    {
      "cell_type": "code",
      "metadata": {
        "id": "vxOfPLYSxJJq"
      },
      "source": [
        "metrics.f1_score(y_test, y_pred)"
      ],
      "execution_count": null,
      "outputs": []
    },
    {
      "cell_type": "code",
      "metadata": {
        "id": "rz5MdHfSxKqW"
      },
      "source": [
        "metrics.accuracy_score(y_test, y_pred)"
      ],
      "execution_count": null,
      "outputs": []
    },
    {
      "cell_type": "code",
      "metadata": {
        "id": "ABuoQyjjxMEA"
      },
      "source": [
        "cm = confusion_matrix(y_test,y_pred)\n",
        "print(cm)\n",
        "tn, fp, fn, tp = cm.ravel()"
      ],
      "execution_count": null,
      "outputs": []
    },
    {
      "cell_type": "code",
      "metadata": {
        "id": "Y_tQM0B1xNTy"
      },
      "source": [
        "cm2 = pd.crosstab(y_test,y_pred,rownames=['Actual'],colnames=['Predicted'])\n",
        "sns.heatmap(cm2,annot=True)"
      ],
      "execution_count": null,
      "outputs": []
    },
    {
      "cell_type": "markdown",
      "metadata": {
        "id": "2EeKX9zkxPlf"
      },
      "source": [
        "# Conclusion and lessons learned\n",
        "\n",
        "The machine learning algorthm said in Duration, Total Cost and Time between reports that we have 0 False Negatives and 0 False Positive. So, the threshold in each variable is 1.\n",
        "\n",
        "\n",
        "*   Duration: The algorithm predicted that everything is above 7 days\n",
        "*   Total cost: The algorithm predicted that everything is above $6,520.00\n",
        "*   TBF: The algorithm predicted that everything is above 40 days.\n",
        "\n",
        "One less\n",
        "\n"
      ]
    }
  ]
}